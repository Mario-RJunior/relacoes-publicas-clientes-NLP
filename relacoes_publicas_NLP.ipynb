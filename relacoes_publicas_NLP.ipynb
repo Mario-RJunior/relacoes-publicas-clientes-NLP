{
  "nbformat": 4,
  "nbformat_minor": 0,
  "metadata": {
    "colab": {
      "name": "relacoes_publicas_NLP.ipynb",
      "provenance": [],
      "authorship_tag": "ABX9TyMbCmoo4ZdrSv1Fl1+nLfmV",
      "include_colab_link": true
    },
    "kernelspec": {
      "name": "python3",
      "display_name": "Python 3"
    }
  },
  "cells": [
    {
      "cell_type": "markdown",
      "metadata": {
        "id": "view-in-github",
        "colab_type": "text"
      },
      "source": [
        "<a href=\"https://colab.research.google.com/github/Mario-RJunior/relacoes-publicas-clientes-NLP/blob/main/relacoes_publicas_NLP.ipynb\" target=\"_parent\"><img src=\"https://colab.research.google.com/assets/colab-badge.svg\" alt=\"Open In Colab\"/></a>"
      ]
    },
    {
      "cell_type": "markdown",
      "metadata": {
        "id": "RpgI3hpeDgRz"
      },
      "source": [
        "# Departamento de Relações Públicas"
      ]
    }
  ]
}